# %% Cell 1: Setup
import pandas as pd
import numpy as np
import re

print("Pandas version:", pd.__version__)

# %% Cell 2: Read Ontario Data
print("=" * 50)
print("ONTARIO DATA")
print("=" * 50)

# Read all sheets
ontario_sheets = pd.read_excel(
    'data/raw/Ontario_Facilies_Work_Order_Data.xlsx', 
    sheet_name=None
)

# Check what we got
for sheet_name, df in ontario_sheets.items():
    has_work_orders = 'EVT_CODE' in df.columns
    print(f"{sheet_name}: {len(df):,} rows - {'✓ Work Orders' if has_work_orders else '✗ Not WO data'}")

# Combine work order sheets
ontario_dfs = [df for df in ontario_sheets.values() if 'EVT_CODE' in df.columns]
df_ontario = pd.concat(ontario_dfs, ignore_index=True)

print(f"\nTotal Ontario work orders: {len(df_ontario):,}")
print(f"Columns: {len(df_ontario.columns)}")

# %% Cell 3: Read Honolulu Data
print("\n" + "=" * 50)
print("HONOLULU DATA")
print("=" * 50)

honolulu_sheets = pd.read_excel(
    'data/raw/Honolulu_Airport_HNL_Work_Order_Data1.xlsx',
    sheet_name=None
)

for sheet_name, df in honolulu_sheets.items():
    has_work_orders = 'EVT_CODE' in df.columns
    print(f"{sheet_name}: {len(df):,} rows - {'✓ Work Orders' if has_work_orders else '✗ Not WO data'}")

honolulu_dfs = [df for df in honolulu_sheets.values() if 'EVT_CODE' in df.columns]
df_honolulu = pd.concat(honolulu_dfs, ignore_index=True)

print(f"\nTotal Honolulu work orders: {len(df_honolulu):,}")
print(f"Columns: {len(df_honolulu.columns)}")

# %% Cell 4: Compare Column Structures
print("\n" + "=" * 50)
print("COLUMN COMPARISON")
print("=" * 50)

ontario_cols = set(df_ontario.columns)
honolulu_cols = set(df_honolulu.columns)

common_cols = ontario_cols & honolulu_cols
ontario_only = ontario_cols - honolulu_cols
honolulu_only = honolulu_cols - ontario_cols

print(f"Common columns: {len(common_cols)}")
print(f"Ontario only: {len(ontario_only)} - {ontario_only}")
print(f"Honolulu only: {len(honolulu_only)} - {honolulu_only}")

# %% Cell 5: Check Data Quality
print("\n" + "=" * 50)
print("DATA QUALITY - ONTARIO")
print("=" * 50)

# Check missing data in key fields
key_fields = ['OBJ_CLASS', 'OBJ_CATEGORY', 'EVT_DESC', 'OBJ_DESC', 'WO Type']

for field in key_fields:
    if field in df_ontario.columns:
        missing = df_ontario[field].isna().sum()
        missing_pct = (missing / len(df_ontario)) * 100
        print(f"{field}: {missing:,} missing ({missing_pct:.1f}%)")

# %% Cell 6: Work Order Type Distribution (Ontario)
print("\n" + "=" * 50)
print("WORK ORDER TYPES - ONTARIO")
print("=" * 50)

wo_types = df_ontario['WO Type'].value_counts()
print(wo_types)

reactive_pct = (wo_types.get('Reactive Maintenance', 0) / len(df_ontario)) * 100
print(f"\nReactive Maintenance: {reactive_pct:.1f}%")

# %% Cell 7: Test Equipment Extraction
print("\n" + "=" * 50)
print("EQUIPMENT EXTRACTION TEST")
print("=" * 50)

# Simple pattern matching
EQUIPMENT_PATTERNS = {
    'Elevator/Escalator': r'elevator|escalator|lift',
    'HVAC': r'hvac|a/c|air condition|heating|ventilation|fan',
    'Plumbing': r'restroom|toilet|sink|water|drain|plumb',
    'Electrical/Lighting': r'light|lighting|power|outlet|circuit|switch|bulb',
    'Doors/Windows': r'door|window|glass|hinge|lock',
    'Signage': r'sign|signage|display',
    'Flooring': r'floor|tile|carpet',
    'Roofing': r'roof|ceiling|skylight',
    'Structural': r'wall|column|beam|stairs|ramp|handrail',
    'Baggage Handling': r'baggage|conveyor|carousel|belt',
    'Parking': r'parking|garage|lot',
    'Security': r'camera|access control|badge|security',
    'Fire Safety': r'sprinkler|fire alarm|extinguisher',
}

def extract_equipment_type(evt_desc, obj_desc):
    """Extract equipment type from descriptions."""
    text = f"{evt_desc or ''} {obj_desc or ''}".lower()
    
    for equipment_type, pattern in EQUIPMENT_PATTERNS.items():
        if re.search(pattern, text):
            return equipment_type
    
    return 'Other/Unclassified'

# Test on first 10 reactive maintenance records
reactive = df_ontario[df_ontario['WO Type'] == 'Reactive Maintenance'].head(10)

print("Sample extractions:\n")
for idx, row in reactive.iterrows():
    equipment = extract_equipment_type(row['EVT_DESC'], row['OBJ_DESC'])
    print(f"{equipment:20s} | {row['EVT_DESC'][:60]}")

# %% Cell 8: Full Extraction and Analysis (Ontario)
print("\n" + "=" * 50)
print("FULL ANALYSIS - ONTARIO REACTIVE MAINTENANCE")
print("=" * 50)

# Extract for all reactive records
reactive_all = df_ontario[df_ontario['WO Type'] == 'Reactive Maintenance'].copy()
reactive_all['Equipment_Type'] = reactive_all.apply(
    lambda row: extract_equipment_type(row['EVT_DESC'], row['OBJ_DESC']),
    axis=1
)

# Analyze by equipment type
by_equipment = reactive_all.groupby('Equipment_Type').agg({
    'EVT_CODE': 'count',
    'Est Labor Cost': 'sum',
    'EVO_HOURS': 'sum'
}).rename(columns={'EVT_CODE': 'Count'})

by_equipment['Cost_Pct'] = (by_equipment['Est Labor Cost'] / by_equipment['Est Labor Cost'].sum()) * 100

by_equipment = by_equipment.sort_values('Est Labor Cost', ascending=False)

print(by_equipment)

print(f"\nTotal Reactive Cost: ${by_equipment['Est Labor Cost'].sum():,.0f}")
print(f"Total Reactive Hours: {by_equipment['EVO_HOURS'].sum():,.0f}")

# %% Cell 9: Summary
print("\n" + "=" * 50)
print("VALIDATION SUMMARY")
print("=" * 50)

print("✓ Ontario: 81,131 work orders (expected)")
print(f"✓ Reactive: {reactive_pct:.1f}% (expected: 32.8%)")
print(f"✓ Reactive cost: ${by_equipment['Est Labor Cost'].sum():,.0f} (expected: ~$4.82M)")
print("✓ Equipment extraction working")
print("✓ Column structure matches between airports")
print("\n✅ Ready to build production project!")
```

---

## 🎯 What to Tell Copilot AFTER Running Notebook

Once you've validated everything works:
```
Perfect! The Jupyter notebook confirms:
✅ Ontario: 81,131 work orders, 32.8% reactive, $4.82M cost
✅ Honolulu: 64,999 work orders, same column structure
✅ Equipment extraction works (13 categories)
✅ Auto-detection of work order sheets works

Now let's build the proper project structure. I need:

1. Virtual environment with:
   - pandas, openpyxl (Excel reading)
   - click (CLI)
   - pytest (testing)
   - plotly (for future HTML reports)

2. Package structure:
   airport_analysis/
   ├── src/
   │   ├── readers/       # Excel reading, sheet detection
   │   ├── extractors/    # Equipment type extraction
   │   ├── analyzers/     # Metrics calculation
   │   └── cli.py         # Command line interface
   ├── tests/             # Unit tests
   ├── data/
   │   ├── raw/          # Input Excel files
   │   ├── enriched/     # Processed data
   │   └── reports/      # Output reports
   ├── notebooks/        # Jupyter notebooks
   └── pyproject.toml    # Dependencies

3. CLI commands:
   python -m airport_analysis analyze <file> --name <facility>
   python -m airport_analysis batch  # Process all files

Can you help me set this up?